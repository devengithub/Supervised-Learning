{
 "cells": [
  {
   "cell_type": "markdown",
   "metadata": {},
   "source": [
    "Class Task 1"
   ]
  },
  {
   "cell_type": "code",
   "execution_count": 7,
   "metadata": {},
   "outputs": [
    {
     "name": "stdout",
     "output_type": "stream",
     "text": [
      "96\n"
     ]
    },
    {
     "data": {
      "text/plain": [
       "int"
      ]
     },
     "execution_count": 7,
     "metadata": {},
     "output_type": "execute_result"
    }
   ],
   "source": [
    "#What is the value of the expression 6 * (7 + 9) in Python?\n",
    "a = 6\n",
    "b = (7+9)\n",
    "c = a * b\n",
    "print (c)\n",
    "type (c)"
   ]
  },
  {
   "cell_type": "code",
   "execution_count": 6,
   "metadata": {},
   "outputs": [
    {
     "name": "stdout",
     "output_type": "stream",
     "text": [
      "51\n"
     ]
    },
    {
     "data": {
      "text/plain": [
       "int"
      ]
     },
     "execution_count": 6,
     "metadata": {},
     "output_type": "execute_result"
    }
   ],
   "source": [
    "#What is the value of the expression 6 * 7 + 9 in Python?\n",
    "a = 6 * 7 + 9\n",
    "print (a)\n",
    "type (a)"
   ]
  },
  {
   "cell_type": "code",
   "execution_count": 22,
   "metadata": {},
   "outputs": [
    {
     "name": "stdout",
     "output_type": "stream",
     "text": [
      "6\n"
     ]
    },
    {
     "data": {
      "text/plain": [
       "6.0"
      ]
     },
     "execution_count": 22,
     "metadata": {},
     "output_type": "execute_result"
    }
   ],
   "source": [
    "# How can you convert an integer to a floating-point number?\n",
    "print (a)\n",
    "type (a)\n",
    "float (a)"
   ]
  },
  {
   "cell_type": "code",
   "execution_count": 45,
   "metadata": {},
   "outputs": [
    {
     "name": "stdout",
     "output_type": "stream",
     "text": [
      "The decimal value of 10 is:\n",
      "0b1010 in binary.\n",
      "0o12 in octal.\n",
      "0xa in hexadecimal.\n"
     ]
    }
   ],
   "source": [
    "# How might you convert an octal, hexadecimal, or binary string to a plain integer and vice-versa?\n",
    "a = 10\n",
    "\n",
    "print(\"The decimal value of\",dec,\"is:\")\n",
    "bin_a = print(bin(a),\"in binary.\")\n",
    "oct_a = print(oct(a),\"in octal.\")\n",
    "hex_a = print(hex(a),\"in hexadecimal.\")"
   ]
  },
  {
   "cell_type": "code",
   "execution_count": 48,
   "metadata": {},
   "outputs": [
    {
     "name": "stdout",
     "output_type": "stream",
     "text": [
      "0b1010 in binary.\n",
      "10\n"
     ]
    }
   ],
   "source": [
    "# Base 2(binary)\n",
    "bin_a = bin(a)\n",
    "print(bin_a,\"in binary.\")\n",
    "print(int(bin_a, 2)) #Base 2(binary)"
   ]
  },
  {
   "cell_type": "code",
   "execution_count": 49,
   "metadata": {},
   "outputs": [
    {
     "name": "stdout",
     "output_type": "stream",
     "text": [
      "0o12 in octal.\n",
      "10\n"
     ]
    }
   ],
   "source": [
    "# Base 8(octal)\n",
    "oct_a = oct(a)\n",
    "print(oct_a,\"in octal.\")\n",
    "print(int(oct_a, 8))"
   ]
  },
  {
   "cell_type": "code",
   "execution_count": 50,
   "metadata": {},
   "outputs": [
    {
     "name": "stdout",
     "output_type": "stream",
     "text": [
      "0xa in hexadecimal.\n",
      "10\n"
     ]
    }
   ],
   "source": [
    "# Base 16(octal)\n",
    "hex_a = hex(a)\n",
    "print(hex_a,\"in hexadecimal.\")\n",
    "print(int(hex_a, 16))"
   ]
  },
  {
   "cell_type": "code",
   "execution_count": 6,
   "metadata": {},
   "outputs": [],
   "source": [
    "# How can you truncate and round a floating-point number?\n",
    "## Not able to crack"
   ]
  },
  {
   "cell_type": "markdown",
   "metadata": {},
   "source": [
    "Clas Task 2"
   ]
  },
  {
   "cell_type": "code",
   "execution_count": 32,
   "metadata": {},
   "outputs": [
    {
     "name": "stdout",
     "output_type": "stream",
     "text": [
      "[1, 2, 5, 13, 14]\n"
     ]
    }
   ],
   "source": [
    "# Difference between sort method and sorted method.\n",
    "# Use list.sort() when you want to mutate the list, sorted() when you want a new sorted object back. Use sorted() when you want to sort something that is an iterable, not a list yet. For lists, list.sort() is faster than sorted() because it doesn't have to create a copy.\n",
    "a = [5, 2, 13,14,1]\n",
    "sorted (a) # new list"
   ]
  },
  {
   "cell_type": "code",
   "execution_count": 33,
   "metadata": {},
   "outputs": [
    {
     "name": "stdout",
     "output_type": "stream",
     "text": [
      "[1, 2, 5, 13, 14]\n"
     ]
    }
   ],
   "source": [
    "a = [5, 2, 13,14,1]\n",
    "a.sort() # new list\n",
    "print (a)  # is modified"
   ]
  },
  {
   "cell_type": "code",
   "execution_count": 56,
   "metadata": {},
   "outputs": [
    {
     "data": {
      "text/plain": [
       "['ajja', 'bajja', 'caja', 'daja', 'fff', 'bajja', 'fdf']"
      ]
     },
     "execution_count": 56,
     "metadata": {},
     "output_type": "execute_result"
    }
   ],
   "source": [
    "#Difference between pop method and remove method\n",
    "log = [\"ajja\",\"bajja\",\"caja\",\"daja\",\"fff\",\"bajja\",\"fdf\"]\n",
    "log"
   ]
  },
  {
   "cell_type": "code",
   "execution_count": 57,
   "metadata": {},
   "outputs": [
    {
     "data": {
      "text/plain": [
       "['ajja', 'bajja', 'caja', 'daja', 'fff', 'bajja']"
      ]
     },
     "execution_count": 57,
     "metadata": {},
     "output_type": "execute_result"
    }
   ],
   "source": [
    "# Pop will remove last sting\n",
    "log.pop()\n",
    "log"
   ]
  },
  {
   "cell_type": "code",
   "execution_count": 60,
   "metadata": {},
   "outputs": [
    {
     "data": {
      "text/plain": [
       "['ajja', 'bajja', 'caja', 'fff', 'bajja']"
      ]
     },
     "execution_count": 60,
     "metadata": {},
     "output_type": "execute_result"
    }
   ],
   "source": [
    "# remove will remove last sting\n",
    "log.remove(\"daja\")\n",
    "log"
   ]
  },
  {
   "cell_type": "code",
   "execution_count": 70,
   "metadata": {},
   "outputs": [
    {
     "name": "stdout",
     "output_type": "stream",
     "text": [
      "a\n",
      "b\tc\n"
     ]
    }
   ],
   "source": [
    "# The blackslashes in a string let's us introduce to a special byte code called 'escape sequences'.\n",
    "# Consider the string\n",
    "s ='a\\nb\\tc'\n",
    "print(s)\n",
    "# Here, \\n represents a new-line character and \\t represents a tab character"
   ]
  },
  {
   "cell_type": "code",
   "execution_count": 62,
   "metadata": {},
   "outputs": [
    {
     "data": {
      "text/plain": [
       "'C:\\\\py\\\\code'"
      ]
     },
     "execution_count": 62,
     "metadata": {},
     "output_type": "execute_result"
    }
   ],
   "source": [
    "# If python doesn't recognize character as an escape sequence it simply keeps as it is(File location)\n",
    "x = \"C:\\py\\code\"\n",
    "x"
   ]
  },
  {
   "cell_type": "code",
   "execution_count": 74,
   "metadata": {},
   "outputs": [
    {
     "data": {
      "text/plain": [
       "6"
      ]
     },
     "execution_count": 74,
     "metadata": {},
     "output_type": "execute_result"
    }
   ],
   "source": [
    "# How many characters are there in the string \"a\\nb\\x1f\\000d\"?\n",
    "r = \"a\\nb\\x1f\\000d\"\n",
    "len (r)"
   ]
  },
  {
   "cell_type": "markdown",
   "metadata": {},
   "source": [
    "Class Task 3"
   ]
  },
  {
   "cell_type": "code",
   "execution_count": 77,
   "metadata": {},
   "outputs": [
    {
     "data": {
      "text/plain": [
       "'Today we got a task on Python Basics'"
      ]
     },
     "execution_count": 77,
     "metadata": {},
     "output_type": "execute_result"
    }
   ],
   "source": [
    "#Apply triple quotes and check the difference between.\n",
    "e = 'Today we got a task on Python Basics'\n",
    "e"
   ]
  },
  {
   "cell_type": "code",
   "execution_count": 78,
   "metadata": {},
   "outputs": [
    {
     "data": {
      "text/plain": [
       "'Today we got a task on Python Basics'"
      ]
     },
     "execution_count": 78,
     "metadata": {},
     "output_type": "execute_result"
    }
   ],
   "source": [
    "e = \"Today we got a task on Python Basics\"\n",
    "e"
   ]
  },
  {
   "cell_type": "code",
   "execution_count": 86,
   "metadata": {},
   "outputs": [
    {
     "data": {
      "text/plain": [
       "'Today we got a task on Python Basics'"
      ]
     },
     "execution_count": 86,
     "metadata": {},
     "output_type": "execute_result"
    }
   ],
   "source": [
    "e = \"\"\"Today we got a task on Python Basics\"\"\"\n",
    "e"
   ]
  },
  {
   "cell_type": "code",
   "execution_count": 87,
   "metadata": {},
   "outputs": [
    {
     "data": {
      "text/plain": [
       "'Today we got\\n    a task on\\n    Python Basics'"
      ]
     },
     "execution_count": 87,
     "metadata": {},
     "output_type": "execute_result"
    }
   ],
   "source": [
    "\"\"\"Today we got\n",
    "    a task on\n",
    "    Python Basics\"\"\""
   ]
  },
  {
   "cell_type": "code",
   "execution_count": 95,
   "metadata": {},
   "outputs": [
    {
     "name": "stdout",
     "output_type": "stream",
     "text": [
      "Length of e =  36\n",
      "Length of s =  38\n"
     ]
    }
   ],
   "source": [
    "# Length of a string\n",
    "s = \"Hey there! what should this string be?\"\n",
    "print(\"Length of e = \",len(e))\n",
    "print(\"Length of s = \",len(s))# %d acts as a placeholder for number"
   ]
  },
  {
   "cell_type": "code",
   "execution_count": 92,
   "metadata": {},
   "outputs": [
    {
     "data": {
      "text/plain": [
       "'SelfLearning'"
      ]
     },
     "execution_count": 92,
     "metadata": {},
     "output_type": "execute_result"
    }
   ],
   "source": [
    "# Concatenation of a strings\n",
    "Add_T = 'Self'\n",
    "Add_U = 'Learning'\n",
    "combine = Add_T + Add_U\n",
    "combine"
   ]
  },
  {
   "cell_type": "code",
   "execution_count": 99,
   "metadata": {},
   "outputs": [
    {
     "data": {
      "text/plain": [
       "'aMaM+-aMaM+-aMaM+-aMaM+-aMaM+-aMaM+-aMaM+-aMaM+-aMaM+-aMaM+-'"
      ]
     },
     "execution_count": 99,
     "metadata": {},
     "output_type": "execute_result"
    }
   ],
   "source": [
    "# Repetition of a string multiple times\n",
    "dk = 'aMaM+-'\n",
    "repetition = dk * 10\n",
    "repetition"
   ]
  },
  {
   "cell_type": "markdown",
   "metadata": {},
   "source": [
    "Class Task 4"
   ]
  },
  {
   "cell_type": "code",
   "execution_count": 100,
   "metadata": {},
   "outputs": [
    {
     "data": {
      "text/plain": [
       "20"
      ]
     },
     "execution_count": 100,
     "metadata": {},
     "output_type": "execute_result"
    }
   ],
   "source": [
    "# Calculate Length of the String 'Python for Beginners'\n",
    "r = 'Python for Beginners'\n",
    "len (r)"
   ]
  },
  {
   "cell_type": "code",
   "execution_count": 109,
   "metadata": {},
   "outputs": [
    {
     "name": "stdout",
     "output_type": "stream",
     "text": [
      "Python for Data Science\n"
     ]
    },
    {
     "data": {
      "text/plain": [
       "'forPythonData Science'"
      ]
     },
     "execution_count": 109,
     "metadata": {},
     "output_type": "execute_result"
    }
   ],
   "source": [
    "# Combine the string 'Python''for''Data Science'.\n",
    "D = 'Data Science'\n",
    "F = 'for'\n",
    "P = 'Python'\n",
    "Rapchik = P + \" \" + F + \" \" + D\n",
    "print (Rapchik)\n",
    "combine = F + P + D\n",
    "combine"
   ]
  },
  {
   "cell_type": "code",
   "execution_count": 114,
   "metadata": {},
   "outputs": [
    {
     "ename": "TypeError",
     "evalue": "must be str, not float",
     "output_type": "error",
     "traceback": [
      "\u001b[1;31m---------------------------------------------------------------------------\u001b[0m",
      "\u001b[1;31mTypeError\u001b[0m                                 Traceback (most recent call last)",
      "\u001b[1;32m<ipython-input-114-ea9ffc167c91>\u001b[0m in \u001b[0;36m<module>\u001b[1;34m()\u001b[0m\n\u001b[0;32m      2\u001b[0m \u001b[0mO\u001b[0m \u001b[1;33m=\u001b[0m \u001b[1;34m'only'\u001b[0m\u001b[1;33m\u001b[0m\u001b[0m\n\u001b[0;32m      3\u001b[0m \u001b[0mY\u001b[0m \u001b[1;33m=\u001b[0m \u001b[1;36m1.0\u001b[0m\u001b[1;33m\u001b[0m\u001b[0m\n\u001b[1;32m----> 4\u001b[1;33m \u001b[0mG\u001b[0m \u001b[1;33m=\u001b[0m \u001b[0mO\u001b[0m \u001b[1;33m+\u001b[0m \u001b[0mY\u001b[0m\u001b[1;33m\u001b[0m\u001b[0m\n\u001b[0m\u001b[0;32m      5\u001b[0m \u001b[0mG\u001b[0m\u001b[1;33m\u001b[0m\u001b[0m\n",
      "\u001b[1;31mTypeError\u001b[0m: must be str, not float"
     ]
    }
   ],
   "source": [
    "# Try to combine a 'only' + 1.0 and check the result.\n",
    "O = 'only'\n",
    "Y = 1.0\n",
    "G = O + Y\n",
    "G"
   ]
  },
  {
   "cell_type": "markdown",
   "metadata": {},
   "source": [
    "Class Task 5"
   ]
  },
  {
   "cell_type": "code",
   "execution_count": 116,
   "metadata": {},
   "outputs": [
    {
     "name": "stdout",
     "output_type": "stream",
     "text": [
      "The first occurrence of the letter a =  13\n"
     ]
    }
   ],
   "source": [
    "# Index of a string\n",
    "s = \"Hey there! what should this string be?\"\n",
    "print(\"The first occurrence of the letter a = \",s.index(\"a\")) # First occurrence of \"a\""
   ]
  },
  {
   "cell_type": "code",
   "execution_count": 120,
   "metadata": {},
   "outputs": [
    {
     "name": "stdout",
     "output_type": "stream",
     "text": [
      "The first five characters are '' Hey the\n",
      "The next five characters are ''  wha\n",
      "The thirteenth character is '' !\n",
      "The characters with odd index are '' e hr!wa hudti tigb?\n",
      "The last five characters are '' tring be?\n"
     ]
    }
   ],
   "source": [
    "# Slicing a string\n",
    "print(\"The first five characters are ''\",s[:7]) # Start upto 7th position\n",
    "print(\"The next five characters are ''\",s[10:14]) # From 10th upto 14th position\n",
    "print(\"The thirteenth character is ''\",s[9]) # Just 9th position\n",
    "print(\"The characters with odd index are ''\",s[1::2]) # (0-based indexing)\n",
    "print(\"The last five characters are ''\",s[-9:]) # Last 9 characters of a string"
   ]
  },
  {
   "cell_type": "code",
   "execution_count": 121,
   "metadata": {},
   "outputs": [
    {
     "data": {
      "text/plain": [
       "'How aab you doing?'"
      ]
     },
     "execution_count": 121,
     "metadata": {},
     "output_type": "execute_result"
    }
   ],
   "source": [
    "# Changing Strings\n",
    "'''Strings are immutable which cannot be changed in-place directly. To make a new text value from an\n",
    "existing string, you construct a new string with operations such as slicing and concatenation.'''\n",
    "\n",
    "s = 'How are you doing?' # Replace 're' with 'ab'\n",
    "s = s[:5]+'ab'+s[7:]\n",
    "s"
   ]
  },
  {
   "cell_type": "code",
   "execution_count": 122,
   "metadata": {},
   "outputs": [
    {
     "data": {
      "text/plain": [
       "'How aab you doing?'"
      ]
     },
     "execution_count": 122,
     "metadata": {},
     "output_type": "execute_result"
    }
   ],
   "source": [
    "# If we want to replace just a substring we can use the replace method.\n",
    "s.replace('re','ab')\n",
    "s"
   ]
  },
  {
   "cell_type": "code",
   "execution_count": 126,
   "metadata": {},
   "outputs": [
    {
     "data": {
      "text/plain": [
       "4"
      ]
     },
     "execution_count": 126,
     "metadata": {},
     "output_type": "execute_result"
    }
   ],
   "source": [
    "# Inorder to know the offset of the substring in a string , we make use of 'find' method\n",
    "str_find = s.find('aab')\n",
    "str_find\n",
    "# This implies 'you' substring is at index 8."
   ]
  },
  {
   "cell_type": "code",
   "execution_count": 134,
   "metadata": {},
   "outputs": [
    {
     "data": {
      "text/plain": [
       "'Sunny weather nowdays'"
      ]
     },
     "execution_count": 134,
     "metadata": {},
     "output_type": "execute_result"
    }
   ],
   "source": [
    "'''If we want to combine mutliple strings together in a list( about which we are going to learn in\n",
    "next section) we make use of 'join' keyword.'''\n",
    "\n",
    "lst = ['Sunny','weather','nowdays']\n",
    "join_str = ' '.join(lst)\n",
    "join_str\n",
    "\n",
    "# 'join' method makes use of separators like either ',' ,';',' ' and so on to combine strings"
   ]
  },
  {
   "cell_type": "code",
   "execution_count": 135,
   "metadata": {},
   "outputs": [
    {
     "data": {
      "text/plain": [
       "['Welcome', 'to', 'Supervised', 'Learning']"
      ]
     },
     "execution_count": 135,
     "metadata": {},
     "output_type": "execute_result"
    }
   ],
   "source": [
    "# The opposite of 'join' method is the 'split' method use to split the string\n",
    "splt_string = 'Welcome to Supervised Learning'\n",
    "splt_string = splt_string.split()\n",
    "splt_string\n",
    "# This method splits strings by space in the above example"
   ]
  },
  {
   "cell_type": "code",
   "execution_count": 136,
   "metadata": {},
   "outputs": [
    {
     "data": {
      "text/plain": [
       "\"Let's being the python tutorial\""
      ]
     },
     "execution_count": 136,
     "metadata": {},
     "output_type": "execute_result"
    }
   ],
   "source": [
    "# Other string methods\n",
    "str = 'Let\\'s being the python tutorial  '\n",
    "str.rstrip() # it truncates any spaces present on the right-hand side of a string"
   ]
  },
  {
   "cell_type": "code",
   "execution_count": 137,
   "metadata": {},
   "outputs": [
    {
     "data": {
      "text/plain": [
       "\"LET'S BEING THE PYTHON TUTORIAL  \""
      ]
     },
     "execution_count": 137,
     "metadata": {},
     "output_type": "execute_result"
    }
   ],
   "source": [
    "str.upper() # Converts string to uppercase"
   ]
  },
  {
   "cell_type": "code",
   "execution_count": 138,
   "metadata": {},
   "outputs": [
    {
     "data": {
      "text/plain": [
       "\"let's being the python tutorial  \""
      ]
     },
     "execution_count": 138,
     "metadata": {},
     "output_type": "execute_result"
    }
   ],
   "source": [
    "str.lower()# Converts string to lowercase"
   ]
  },
  {
   "cell_type": "code",
   "execution_count": 139,
   "metadata": {},
   "outputs": [
    {
     "data": {
      "text/plain": [
       "False"
      ]
     },
     "execution_count": 139,
     "metadata": {},
     "output_type": "execute_result"
    }
   ],
   "source": [
    "str.isalpha() # this string returns method as False as there are spaces present in them"
   ]
  },
  {
   "cell_type": "code",
   "execution_count": 143,
   "metadata": {},
   "outputs": [
    {
     "data": {
      "text/plain": [
       "False"
      ]
     },
     "execution_count": 143,
     "metadata": {},
     "output_type": "execute_result"
    }
   ],
   "source": [
    "str.endswith('ri') # method checks with the string ends with the substring "
   ]
  },
  {
   "cell_type": "code",
   "execution_count": 144,
   "metadata": {},
   "outputs": [
    {
     "data": {
      "text/plain": [
       "True"
      ]
     },
     "execution_count": 144,
     "metadata": {},
     "output_type": "execute_result"
    }
   ],
   "source": [
    "str.startswith('Le') # checks if the string starts with the substring"
   ]
  },
  {
   "cell_type": "code",
   "execution_count": 145,
   "metadata": {},
   "outputs": [
    {
     "data": {
      "text/plain": [
       "' This document will help you to explore all the concepts of Python Strings!!! '"
      ]
     },
     "execution_count": 145,
     "metadata": {},
     "output_type": "execute_result"
    }
   ],
   "source": [
    "String_var = \"\"\" This document will help you to explore all the concepts of Python Strings!!! \"\"\"\n",
    "String_var"
   ]
  },
  {
   "cell_type": "code",
   "execution_count": 147,
   "metadata": {},
   "outputs": [
    {
     "name": "stdout",
     "output_type": "stream",
     "text": [
      "Result of slicing:- ocument will help you to explore all the concepts of Python Strings\n"
     ]
    }
   ],
   "source": [
    "#Result of slicing a string print(String_var[7:-4])\n",
    "print(\"Result of slicing:-\",String_var[7:-4])"
   ]
  },
  {
   "cell_type": "code",
   "execution_count": 152,
   "metadata": {},
   "outputs": [
    {
     "data": {
      "text/plain": [
       "' This task will help you to explore all the concepts of Python Strings!!! '"
      ]
     },
     "execution_count": 152,
     "metadata": {},
     "output_type": "execute_result"
    }
   ],
   "source": [
    "#Replace 'document' with 'task' in above string\n",
    "String_var.replace('document','task')"
   ]
  },
  {
   "cell_type": "code",
   "execution_count": 157,
   "metadata": {},
   "outputs": [
    {
     "data": {
      "text/plain": [
       "['This',\n",
       " 'document',\n",
       " 'will',\n",
       " 'help',\n",
       " 'you',\n",
       " 'to',\n",
       " 'explore',\n",
       " 'all',\n",
       " 'the',\n",
       " 'concepts',\n",
       " 'of',\n",
       " 'Python',\n",
       " 'Strings!!']"
      ]
     },
     "execution_count": 157,
     "metadata": {},
     "output_type": "execute_result"
    }
   ],
   "source": [
    "#Split the string with space\n",
    "String_var = 'This document will help you to explore all the concepts of Python Strings!!'\n",
    "splt_string = String_var.split()\n",
    "splt_string"
   ]
  },
  {
   "cell_type": "code",
   "execution_count": 158,
   "metadata": {},
   "outputs": [
    {
     "data": {
      "text/plain": [
       "'this document will help you to explore all the concepts of python strings!!'"
      ]
     },
     "execution_count": 158,
     "metadata": {},
     "output_type": "execute_result"
    }
   ],
   "source": [
    "#Convert the entire string to lowercase\n",
    "String_var.lower()"
   ]
  },
  {
   "cell_type": "code",
   "execution_count": 166,
   "metadata": {},
   "outputs": [
    {
     "name": "stdout",
     "output_type": "stream",
     "text": [
      "This document will help you to explore all the concepts of Python Strings\n"
     ]
    }
   ],
   "source": [
    "#Remove all special characters and retain only text in the string.\n",
    "len(String_var)\n",
    "print(String_var[0:73])"
   ]
  },
  {
   "cell_type": "code",
   "execution_count": 168,
   "metadata": {},
   "outputs": [
    {
     "data": {
      "text/plain": [
       "False"
      ]
     },
     "execution_count": 168,
     "metadata": {},
     "output_type": "execute_result"
    }
   ],
   "source": [
    "#Check whether the string isalpha()\n",
    "String_var.isalpha()"
   ]
  },
  {
   "cell_type": "code",
   "execution_count": 171,
   "metadata": {},
   "outputs": [
    {
     "data": {
      "text/plain": [
       "False"
      ]
     },
     "execution_count": 171,
     "metadata": {},
     "output_type": "execute_result"
    }
   ],
   "source": [
    "#Check whether the string endswith character 'S'\n",
    "String_var.endswith('s')"
   ]
  },
  {
   "cell_type": "code",
   "execution_count": null,
   "metadata": {},
   "outputs": [],
   "source": []
  }
 ],
 "metadata": {
  "kernelspec": {
   "display_name": "Python 3",
   "language": "python",
   "name": "python3"
  },
  "language_info": {
   "codemirror_mode": {
    "name": "ipython",
    "version": 3
   },
   "file_extension": ".py",
   "mimetype": "text/x-python",
   "name": "python",
   "nbconvert_exporter": "python",
   "pygments_lexer": "ipython3",
   "version": "3.6.5"
  }
 },
 "nbformat": 4,
 "nbformat_minor": 2
}
